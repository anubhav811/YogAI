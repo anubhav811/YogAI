{
 "cells": [
  {
   "cell_type": "code",
   "execution_count": 1,
   "metadata": {
    "collapsed": true,
    "nbpresent": {
     "id": "8bb395b7-98aa-4727-bfbf-7f1c8dea9893"
    }
   },
   "outputs": [],
   "source": [
    "import numpy as np\n",
    "import json\n",
    "import os\n",
    "import csv"
   ]
  },
  {
   "cell_type": "code",
   "execution_count": 2,
   "metadata": {
    "collapsed": true,
    "nbpresent": {
     "id": "6c5d47e1-1811-4507-aaed-56760af68fc5"
    }
   },
   "outputs": [],
   "source": [
    "#creating training & test data file: 18*2*45*n => 30 frame overlap"
   ]
  },
  {
   "cell_type": "code",
   "execution_count": 12,
   "metadata": {
    "collapsed": true
   },
   "outputs": [],
   "source": [
    "asanas = [\"bhujangasan\", \"padamasan\", \"shavasan\", \"tadasan\", \"trikonasan\", \"vrikshasan\"]\n",
    "data_path = \"pose-data/\""
   ]
  },
  {
   "cell_type": "code",
   "execution_count": 15,
   "metadata": {},
   "outputs": [],
   "source": [
    "train_list = []\n",
    "#list of asanas, each asana has all it's videos, each video has list of stacked 18*2 numpy arrays\n",
    "val_list = []\n",
    "test_list = []\n",
    "for a in asanas:\n",
    "    currAsanaTrain = []\n",
    "    currAsanaVal = []\n",
    "    currAsanaTest = []\n",
    "    path = data_path + a + \"/\"\n",
    "    for i in range(1,17):\n",
    "        currVideo = []\n",
    "        start = str(i) + \"_\"\n",
    "        for filename in os.listdir(path):\n",
    "            data = []\n",
    "            if filename.startswith(start):\n",
    "                #get data from file\n",
    "                with open(path + filename) as json_data:\n",
    "                    d = json.load(json_data)\n",
    "                    try:\n",
    "                        data = d['people'][0]['pose_keypoints']\n",
    "                        #remove confidence values\n",
    "                        for j in range(2,38,2):\n",
    "                            data.pop(j)\n",
    "                    except:\n",
    "                        print (\"Failed at\" + filename)\n",
    "                        continue\n",
    "                    json_data.close\n",
    "                #separate X and Y coord\n",
    "                npdata = np.asarray(data)\n",
    "                Xdata = data[::2]\n",
    "                Ydata = data[1::2]\n",
    "                stk = np.dstack((Xdata, Ydata)) #stack vertically\n",
    "                currVideo.append(stk)\n",
    "        #print currVideo\n",
    "        if a == 'vrikshasan' and i == 15:\n",
    "            # this one has difference and creates noise\n",
    "            currAsanaTrain.append(currVideo)\n",
    "        elif (i+1)%5 == 0 and len(currVideo) != 0:\n",
    "            currAsanaTest.append(currVideo)\n",
    "        elif (i)%5 == 0 and len(currVideo) != 0:\n",
    "            currAsanaVal.append(currVideo)\n",
    "        elif len(currVideo) != 0:\n",
    "            currAsanaTrain.append(currVideo)\n",
    "        #break\n",
    "    train_list.append(currAsanaTrain)\n",
    "    val_list.append(currAsanaVal)\n",
    "    test_list.append(currAsanaTest)\n",
    "    #break"
   ]
  },
  {
   "cell_type": "code",
   "execution_count": 16,
   "metadata": {
    "collapsed": true
   },
   "outputs": [],
   "source": [
    "#videos in datset are 30 fps\n",
    "window_size = 45 # number of frames in 1 test case\n",
    "overlap_size = 36 # overlap between two testcase\n",
    "train_cases = []\n",
    "train_labels = []\n",
    "for i, asana in enumerate(train_list):\n",
    "    for vid in asana:\n",
    "        for start in range(0, len(vid)-window_size, window_size - overlap_size):\n",
    "            currCase = np.empty([window_size,18,2])\n",
    "            for index in range(0,window_size):\n",
    "                currCase[index] = vid[start+index]\n",
    "            train_cases.append(currCase)\n",
    "            train_labels.append(i)"
   ]
  },
  {
   "cell_type": "code",
   "execution_count": 17,
   "metadata": {},
   "outputs": [
    {
     "name": "stdout",
     "output_type": "stream",
     "text": [
      "0\n",
      "0\n"
     ]
    }
   ],
   "source": [
    "print (len(train_cases))\n",
    "print (len(train_labels))"
   ]
  },
  {
   "cell_type": "code",
   "execution_count": 18,
   "metadata": {
    "collapsed": true
   },
   "outputs": [],
   "source": [
    "test_cases = []\n",
    "test_labels = []\n",
    "for i, asana in enumerate(test_list):\n",
    "    for vid in asana:\n",
    "        for start in range(0, len(vid)-window_size, window_size - overlap_size):\n",
    "            currCase = np.empty([window_size,18,2])\n",
    "            for index in range(0,window_size):\n",
    "                currCase[index] = vid[start+index]\n",
    "            test_cases.append(currCase)\n",
    "            test_labels.append(i)"
   ]
  },
  {
   "cell_type": "code",
   "execution_count": 19,
   "metadata": {},
   "outputs": [
    {
     "name": "stdout",
     "output_type": "stream",
     "text": [
      "0\n",
      "0\n"
     ]
    }
   ],
   "source": [
    "print (len(test_cases))\n",
    "print (len(test_labels))"
   ]
  },
  {
   "cell_type": "code",
   "execution_count": 20,
   "metadata": {
    "collapsed": true
   },
   "outputs": [],
   "source": [
    "val_cases = []\n",
    "val_labels = []\n",
    "for i, asana in enumerate(val_list):\n",
    "    for vid in asana:\n",
    "        for start in range(0, len(vid)-window_size, window_size - overlap_size):\n",
    "            currCase = np.empty([window_size,18,2])\n",
    "            for index in range(0,window_size):\n",
    "                currCase[index] = vid[start+index]\n",
    "            val_cases.append(currCase)\n",
    "            val_labels.append(i)"
   ]
  },
  {
   "cell_type": "code",
   "execution_count": 21,
   "metadata": {},
   "outputs": [
    {
     "name": "stdout",
     "output_type": "stream",
     "text": [
      "0\n",
      "0\n"
     ]
    }
   ],
   "source": [
    "print (len(val_cases))\n",
    "print (len(val_labels))"
   ]
  },
  {
   "cell_type": "code",
   "execution_count": 22,
   "metadata": {
    "collapsed": true
   },
   "outputs": [],
   "source": [
    "#convert to numpy array and save\n",
    "train_arr = np.empty([len(train_cases), window_size, 18, 2])\n",
    "for i, ele in enumerate(train_cases):\n",
    "    train_arr[i] = ele"
   ]
  },
  {
   "cell_type": "code",
   "execution_count": 23,
   "metadata": {
    "collapsed": true
   },
   "outputs": [],
   "source": [
    "test_arr = np.empty([len(test_cases), window_size, 18, 2])\n",
    "for i, ele in enumerate(test_cases):\n",
    "    test_arr[i] = ele"
   ]
  },
  {
   "cell_type": "code",
   "execution_count": 24,
   "metadata": {
    "collapsed": true
   },
   "outputs": [],
   "source": [
    "val_arr = np.empty([len(val_cases), window_size, 18, 2])\n",
    "for i, ele in enumerate(val_cases):\n",
    "    val_arr[i] = ele"
   ]
  },
  {
   "cell_type": "code",
   "execution_count": 25,
   "metadata": {
    "collapsed": true
   },
   "outputs": [],
   "source": [
    "np.save(\"trainX\", train_arr)\n",
    "np.save(\"testX\", test_arr)\n",
    "np.save(\"valX\", val_arr)\n",
    "np.save(\"trainY\", np.asarray(train_labels))\n",
    "np.save(\"testY\", np.asarray(test_labels))\n",
    "np.save(\"valY\", np.asarray(val_labels))"
   ]
  }
 ],
 "metadata": {
  "kernelspec": {
   "display_name": "Python 3.10.2 64-bit",
   "language": "python",
   "name": "python3"
  },
  "language_info": {
   "codemirror_mode": {
    "name": "ipython",
    "version": 3
   },
   "file_extension": ".py",
   "mimetype": "text/x-python",
   "name": "python",
   "nbconvert_exporter": "python",
   "pygments_lexer": "ipython3",
   "version": "3.10.2"
  },
  "vscode": {
   "interpreter": {
    "hash": "7f90c774fa198052e1afa584361ffe0b6c68441268037cc78f96e08e7321fe55"
   }
  }
 },
 "nbformat": 4,
 "nbformat_minor": 2
}
